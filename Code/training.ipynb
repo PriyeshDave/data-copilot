{
 "cells": [
  {
   "cell_type": "code",
   "execution_count": 12,
   "metadata": {},
   "outputs": [],
   "source": [
    "from langchain.prompts import ChatPromptTemplate\n",
    "from langchain.chat_models import ChatOpenAI\n",
    "from dotenv import load_dotenv\n",
    "import os"
   ]
  },
  {
   "cell_type": "code",
   "execution_count": 35,
   "metadata": {},
   "outputs": [
    {
     "data": {
      "text/plain": [
       "True"
      ]
     },
     "execution_count": 35,
     "metadata": {},
     "output_type": "execute_result"
    }
   ],
   "source": [
    "load_dotenv(\"../.env\")"
   ]
  },
  {
   "cell_type": "code",
   "execution_count": 36,
   "metadata": {},
   "outputs": [],
   "source": [
    "pine_cone_api_key = os.environ[\"PINECONE_API_KEY\"]\n",
    "openai_api_key = os.environ[\"OPENAI_API_KEY\"]"
   ]
  },
  {
   "cell_type": "code",
   "execution_count": 54,
   "metadata": {},
   "outputs": [],
   "source": [
    "PROMPT_TEMPLATE = \"\"\"\n",
    "    You are a smart saaistant who has a good understading about the postgres schemas and tables.\n",
    "\n",
    "    Answer the question based only on the following context:\n",
    "    \n",
    "    Context:\n",
    "    Below here are the schema information about two tables that is colleagues_data and asset_data. Based on the the question ask you need to detect\n",
    "    whether which tables will be needed to make a sql query. \n",
    "\n",
    "    colleague_data schema:\n",
    "    {colleague_data_schema}\n",
    "\n",
    "    asset_data_schema:\n",
    "    {asset_data_schema}\n",
    "\n",
    "\n",
    "    Example1 Question:\n",
    "    Show me the number of colleagues from India\n",
    "    Example1 Answer:\n",
    "    colleague_data to be used\n",
    "\n",
    "\n",
    "    Example2 Question:\n",
    "    Show me the number of colleagues working in Technology\n",
    "    Example2 Answer:\n",
    "    colleague_data to be used\n",
    "\n",
    "\n",
    "    Example3 Question:\n",
    "    Show me the details of the colleagues from India who are using macbook pro\n",
    "    Example3 Answer:\n",
    "    colleague_data and asset_data tables to be used\n",
    "    \n",
    "    ---\n",
    "\n",
    "    Answer the question based on the above context: {question}\n",
    "    You need to give me the names of tables in a list form\n",
    "    also the columns that would be required\n",
    "    \"\"\""
   ]
  },
  {
   "cell_type": "code",
   "execution_count": 55,
   "metadata": {},
   "outputs": [],
   "source": [
    "colleague_data_schema = \"\"\"\n",
    "CREATE TABLE IF NOT EXISTS public.colleague_data\n",
    "(\n",
    "    employee_id integer NOT NULL,\n",
    "    emp_name character varying COLLATE pg_catalog.\"default\",\n",
    "    work_location character varying COLLATE pg_catalog.\"default\",\n",
    "    work_country character varying COLLATE pg_catalog.\"default\",\n",
    "    business_unit character varying COLLATE pg_catalog.\"default\",\n",
    "    department character varying COLLATE pg_catalog.\"default\",\n",
    "    designation character varying COLLATE pg_catalog.\"default\",\n",
    "    band character varying COLLATE pg_catalog.\"default\",\n",
    "    role character varying COLLATE pg_catalog.\"default\",\n",
    "    date_of_joining character varying COLLATE pg_catalog.\"default\",\n",
    "    year_of_joining integer,\n",
    "    joining_month character varying COLLATE pg_catalog.\"default\",\n",
    "    CONSTRAINT colleague_data_pkey PRIMARY KEY (employee_id)\n",
    ")\n",
    "\"\"\"\n",
    "\n",
    "\n",
    "asset_data_schema = \"\"\"\n",
    "CREATE TABLE IF NOT EXISTS public.asset_data\n",
    "(\n",
    "    employee_id integer,\n",
    "    laptop_model character varying COLLATE pg_catalog.\"default\",\n",
    "    manufacturer character varying COLLATE pg_catalog.\"default\",\n",
    "    CONSTRAINT fk FOREIGN KEY (employee_id)\n",
    "        REFERENCES public.colleague_data (employee_id) MATCH SIMPLE\n",
    "        ON UPDATE NO ACTION\n",
    "        ON DELETE NO ACTION\n",
    ")\n",
    "\"\"\""
   ]
  },
  {
   "cell_type": "code",
   "execution_count": 56,
   "metadata": {},
   "outputs": [],
   "source": [
    "user_question = \"Give me the details about the collegaues whoc joined in year 2015 and using macbook air\""
   ]
  },
  {
   "cell_type": "code",
   "execution_count": 57,
   "metadata": {},
   "outputs": [],
   "source": [
    "prompt_template = ChatPromptTemplate.from_template(PROMPT_TEMPLATE)\n",
    "prompt = prompt_template.format(colleague_data_schema=colleague_data_schema,\n",
    "                                asset_data_schema=asset_data_schema,\n",
    "                                question=user_question)"
   ]
  },
  {
   "cell_type": "code",
   "execution_count": 59,
   "metadata": {},
   "outputs": [],
   "source": [
    "llm_model = ChatOpenAI(api_key=openai_api_key, temperature=0.5)\n",
    "# response_text = llm_model.predict(prompt)\n",
    "# response_text"
   ]
  },
  {
   "cell_type": "code",
   "execution_count": 66,
   "metadata": {},
   "outputs": [],
   "source": [
    "from langchain_core.output_parsers import StrOutputParser\n",
    "parser = StrOutputParser()"
   ]
  },
  {
   "cell_type": "code",
   "execution_count": 64,
   "metadata": {},
   "outputs": [],
   "source": [
    "chain = llm_model | parser"
   ]
  },
  {
   "cell_type": "code",
   "execution_count": 68,
   "metadata": {},
   "outputs": [
    {
     "name": "stdout",
     "output_type": "stream",
     "text": [
      "Tables:\n",
      "1. colleague_data\n",
      "2. asset_data\n",
      "\n",
      "Columns:\n",
      "1. employee_id (from colleague_data)\n",
      "2. emp_name (from colleague_data)\n",
      "3. date_of_joining (from colleague_data)\n",
      "4. laptop_model (from asset_data)\n"
     ]
    }
   ],
   "source": [
    "print(chain.invoke(prompt))"
   ]
  }
 ],
 "metadata": {
  "kernelspec": {
   "display_name": "generative_ai_venv",
   "language": "python",
   "name": "python3"
  },
  "language_info": {
   "codemirror_mode": {
    "name": "ipython",
    "version": 3
   },
   "file_extension": ".py",
   "mimetype": "text/x-python",
   "name": "python",
   "nbconvert_exporter": "python",
   "pygments_lexer": "ipython3",
   "version": "3.9.0"
  }
 },
 "nbformat": 4,
 "nbformat_minor": 2
}
